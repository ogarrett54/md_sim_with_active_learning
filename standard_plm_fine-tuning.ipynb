{
 "cells": [
  {
   "cell_type": "markdown",
   "id": "3a0e127c",
   "metadata": {},
   "source": [
    "# Fine-tuning ESM2 to Predict Mutant Effects on Binding"
   ]
  },
  {
   "cell_type": "markdown",
   "id": "961e2410",
   "metadata": {},
   "source": [
    "### Resources\n",
    "- Data from this [paper](https://www.cell.com/cell/fulltext/S0092-8674(20)31003-5?_returnURL=https%3A%2F%2Flinkinghub.elsevier.com%2Fretrieve%2Fpii%2FS0092867420310035%3Fshowall%3Dtrue#author-abstract), downloaded from this [repo](https://github.com/jbloomlab/SARS-CoV-2-RBD_DMS/tree/master)"
   ]
  },
  {
   "cell_type": "markdown",
   "id": "97207358",
   "metadata": {},
   "source": [
    "As a benchmark, I'll first replicate the basic fine-tuning procedure with ESM2 to predict mutant effects on binding."
   ]
  },
  {
   "cell_type": "code",
   "execution_count": 15,
   "id": "04444f56",
   "metadata": {},
   "outputs": [],
   "source": [
    "import torch\n",
    "device = torch.device(\"cuda\" if torch.cuda.is_available() else \"cpu\")"
   ]
  },
  {
   "cell_type": "code",
   "execution_count": 4,
   "id": "4ccef52d",
   "metadata": {},
   "outputs": [],
   "source": [
    "model_checkpoint = 'facebook/esm2_t12_35M_UR50D'"
   ]
  },
  {
   "cell_type": "code",
   "execution_count": 5,
   "id": "e8e886a4",
   "metadata": {},
   "outputs": [],
   "source": [
    "import pandas as pd\n",
    "\n",
    "train = pd.read_csv('train.csv')\n",
    "test = pd.read_csv('test.csv')"
   ]
  },
  {
   "cell_type": "code",
   "execution_count": 6,
   "id": "d2dbc663",
   "metadata": {},
   "outputs": [],
   "source": [
    "from transformers import AutoTokenizer\n",
    "\n",
    "tokenizer = AutoTokenizer.from_pretrained(model_checkpoint)"
   ]
  },
  {
   "cell_type": "code",
   "execution_count": 7,
   "id": "af3b60b9",
   "metadata": {},
   "outputs": [],
   "source": [
    "train_tokenized = tokenizer(train.sequences.to_list())\n",
    "test_tokenized = tokenizer(test.sequences.to_list())"
   ]
  },
  {
   "cell_type": "code",
   "execution_count": 8,
   "id": "75394c4b",
   "metadata": {},
   "outputs": [],
   "source": [
    "from datasets import Dataset\n",
    "train_dataset = Dataset.from_dict(train_tokenized)\n",
    "test_dataset = Dataset.from_dict(test_tokenized)"
   ]
  },
  {
   "cell_type": "code",
   "execution_count": 9,
   "id": "b9c5bf59",
   "metadata": {},
   "outputs": [],
   "source": [
    "train_dataset = train_dataset.add_column('labels', train.bind_score.to_list())\n",
    "test_dataset = test_dataset.add_column('labels', test.bind_score.to_list())"
   ]
  },
  {
   "cell_type": "code",
   "execution_count": 10,
   "id": "27611360",
   "metadata": {},
   "outputs": [
    {
     "data": {
      "application/vnd.jupyter.widget-view+json": {
       "model_id": "f276e03312864107bb001d968196f4eb",
       "version_major": 2,
       "version_minor": 0
      },
      "text/plain": [
       "config.json:   0%|          | 0.00/778 [00:00<?, ?B/s]"
      ]
     },
     "metadata": {},
     "output_type": "display_data"
    },
    {
     "name": "stderr",
     "output_type": "stream",
     "text": [
      "Xet Storage is enabled for this repo, but the 'hf_xet' package is not installed. Falling back to regular HTTP download. For better performance, install the package with: `pip install huggingface_hub[hf_xet]` or `pip install hf_xet`\n"
     ]
    },
    {
     "data": {
      "application/vnd.jupyter.widget-view+json": {
       "model_id": "9cd8ddd386214dfcb194af46e568c67b",
       "version_major": 2,
       "version_minor": 0
      },
      "text/plain": [
       "model.safetensors:   0%|          | 0.00/136M [00:00<?, ?B/s]"
      ]
     },
     "metadata": {},
     "output_type": "display_data"
    },
    {
     "name": "stderr",
     "output_type": "stream",
     "text": [
      "Some weights of EsmForSequenceClassification were not initialized from the model checkpoint at facebook/esm2_t12_35M_UR50D and are newly initialized: ['classifier.dense.bias', 'classifier.dense.weight', 'classifier.out_proj.bias', 'classifier.out_proj.weight']\n",
      "You should probably TRAIN this model on a down-stream task to be able to use it for predictions and inference.\n"
     ]
    }
   ],
   "source": [
    "from transformers import AutoModelForSequenceClassification, TrainingArguments, Trainer\n",
    "\n",
    "model = AutoModelForSequenceClassification.from_pretrained(model_checkpoint, num_labels=1)"
   ]
  },
  {
   "cell_type": "code",
   "execution_count": 18,
   "id": "0290743a",
   "metadata": {},
   "outputs": [],
   "source": [
    "model_name = model_checkpoint.split('/')[-1]\n",
    "batch_size = 8\n",
    "\n",
    "args = TrainingArguments(\n",
    "    f'{model_name}-finetuned-regression',\n",
    "    eval_strategy='epoch',\n",
    "    save_strategy='epoch',\n",
    "    learning_rate=2e-5,\n",
    "    per_device_train_batch_size=batch_size,\n",
    "    per_device_eval_batch_size=batch_size,\n",
    "    num_train_epochs=20,\n",
    "    weight_decay=0.01,\n",
    "    seed=69,\n",
    "    load_best_model_at_end=True,\n",
    "    metric_for_best_model='spearmanr',\n",
    ")"
   ]
  },
  {
   "cell_type": "code",
   "execution_count": 19,
   "id": "00f315e5",
   "metadata": {},
   "outputs": [],
   "source": [
    "from evaluate import load\n",
    "\n",
    "metric = load('spearmanr')\n",
    "\n",
    "def compute_metrics(eval_pred):\n",
    "    predictions, labels = eval_pred\n",
    "    return metric.compute(predictions=predictions, references=labels)"
   ]
  },
  {
   "cell_type": "code",
   "execution_count": 20,
   "id": "a3350742",
   "metadata": {},
   "outputs": [],
   "source": [
    "trainer = Trainer(\n",
    "    model,\n",
    "    args,\n",
    "    train_dataset=train_dataset,\n",
    "    eval_dataset=test_dataset,\n",
    "    tokenizer=tokenizer,\n",
    "    compute_metrics=compute_metrics\n",
    ")"
   ]
  },
  {
   "cell_type": "code",
   "execution_count": 21,
   "id": "0adbdf9a",
   "metadata": {},
   "outputs": [
    {
     "data": {
      "text/html": [
       "\n",
       "    <div>\n",
       "      \n",
       "      <progress value='9020' max='9020' style='width:300px; height:20px; vertical-align: middle;'></progress>\n",
       "      [9020/9020 16:45, Epoch 20/20]\n",
       "    </div>\n",
       "    <table border=\"1\" class=\"dataframe\">\n",
       "  <thead>\n",
       " <tr style=\"text-align: left;\">\n",
       "      <th>Epoch</th>\n",
       "      <th>Training Loss</th>\n",
       "      <th>Validation Loss</th>\n",
       "      <th>Spearmanr</th>\n",
       "    </tr>\n",
       "  </thead>\n",
       "  <tbody>\n",
       "    <tr>\n",
       "      <td>1</td>\n",
       "      <td>No log</td>\n",
       "      <td>1.896662</td>\n",
       "      <td>0.264815</td>\n",
       "    </tr>\n",
       "    <tr>\n",
       "      <td>2</td>\n",
       "      <td>1.941200</td>\n",
       "      <td>1.939587</td>\n",
       "      <td>0.345828</td>\n",
       "    </tr>\n",
       "    <tr>\n",
       "      <td>3</td>\n",
       "      <td>1.948200</td>\n",
       "      <td>3.275375</td>\n",
       "      <td>0.460322</td>\n",
       "    </tr>\n",
       "    <tr>\n",
       "      <td>4</td>\n",
       "      <td>1.732600</td>\n",
       "      <td>1.300373</td>\n",
       "      <td>0.570217</td>\n",
       "    </tr>\n",
       "    <tr>\n",
       "      <td>5</td>\n",
       "      <td>1.367500</td>\n",
       "      <td>1.437272</td>\n",
       "      <td>0.645552</td>\n",
       "    </tr>\n",
       "    <tr>\n",
       "      <td>6</td>\n",
       "      <td>1.008900</td>\n",
       "      <td>0.717460</td>\n",
       "      <td>0.689318</td>\n",
       "    </tr>\n",
       "    <tr>\n",
       "      <td>7</td>\n",
       "      <td>0.858100</td>\n",
       "      <td>0.671648</td>\n",
       "      <td>0.708898</td>\n",
       "    </tr>\n",
       "    <tr>\n",
       "      <td>8</td>\n",
       "      <td>0.853800</td>\n",
       "      <td>0.588366</td>\n",
       "      <td>0.726400</td>\n",
       "    </tr>\n",
       "    <tr>\n",
       "      <td>9</td>\n",
       "      <td>0.769100</td>\n",
       "      <td>0.552489</td>\n",
       "      <td>0.709654</td>\n",
       "    </tr>\n",
       "    <tr>\n",
       "      <td>10</td>\n",
       "      <td>0.578400</td>\n",
       "      <td>0.531976</td>\n",
       "      <td>0.790295</td>\n",
       "    </tr>\n",
       "    <tr>\n",
       "      <td>11</td>\n",
       "      <td>0.578400</td>\n",
       "      <td>0.616603</td>\n",
       "      <td>0.816500</td>\n",
       "    </tr>\n",
       "    <tr>\n",
       "      <td>12</td>\n",
       "      <td>0.543500</td>\n",
       "      <td>0.447762</td>\n",
       "      <td>0.809088</td>\n",
       "    </tr>\n",
       "    <tr>\n",
       "      <td>13</td>\n",
       "      <td>0.424300</td>\n",
       "      <td>0.930759</td>\n",
       "      <td>0.787946</td>\n",
       "    </tr>\n",
       "    <tr>\n",
       "      <td>14</td>\n",
       "      <td>0.409300</td>\n",
       "      <td>0.620173</td>\n",
       "      <td>0.834667</td>\n",
       "    </tr>\n",
       "    <tr>\n",
       "      <td>15</td>\n",
       "      <td>0.334200</td>\n",
       "      <td>0.367925</td>\n",
       "      <td>0.838884</td>\n",
       "    </tr>\n",
       "    <tr>\n",
       "      <td>16</td>\n",
       "      <td>0.308400</td>\n",
       "      <td>0.384798</td>\n",
       "      <td>0.849546</td>\n",
       "    </tr>\n",
       "    <tr>\n",
       "      <td>17</td>\n",
       "      <td>0.247000</td>\n",
       "      <td>0.361177</td>\n",
       "      <td>0.848370</td>\n",
       "    </tr>\n",
       "    <tr>\n",
       "      <td>18</td>\n",
       "      <td>0.227000</td>\n",
       "      <td>0.351785</td>\n",
       "      <td>0.855512</td>\n",
       "    </tr>\n",
       "    <tr>\n",
       "      <td>19</td>\n",
       "      <td>0.213400</td>\n",
       "      <td>0.350648</td>\n",
       "      <td>0.860475</td>\n",
       "    </tr>\n",
       "    <tr>\n",
       "      <td>20</td>\n",
       "      <td>0.177900</td>\n",
       "      <td>0.345407</td>\n",
       "      <td>0.864318</td>\n",
       "    </tr>\n",
       "  </tbody>\n",
       "</table><p>"
      ],
      "text/plain": [
       "<IPython.core.display.HTML object>"
      ]
     },
     "metadata": {},
     "output_type": "display_data"
    },
    {
     "data": {
      "text/plain": [
       "TrainOutput(global_step=9020, training_loss=0.7731567820794302, metrics={'train_runtime': 1005.936, 'train_samples_per_second': 71.615, 'train_steps_per_second': 8.967, 'total_flos': 2938135634478240.0, 'train_loss': 0.7731567820794302, 'epoch': 20.0})"
      ]
     },
     "execution_count": 21,
     "metadata": {},
     "output_type": "execute_result"
    }
   ],
   "source": [
    "trainer.train()"
   ]
  },
  {
   "cell_type": "code",
   "execution_count": 22,
   "id": "ed3086f1",
   "metadata": {},
   "outputs": [],
   "source": [
    "model_save_path = f'{model_name}_single_mut_effects_regression.model'\n",
    "torch.save(model.state_dict(), model_save_path)"
   ]
  },
  {
   "cell_type": "code",
   "execution_count": null,
   "id": "00ca3066",
   "metadata": {},
   "outputs": [],
   "source": []
  }
 ],
 "metadata": {
  "kernelspec": {
   "display_name": "ml",
   "language": "python",
   "name": "python3"
  },
  "language_info": {
   "codemirror_mode": {
    "name": "ipython",
    "version": 3
   },
   "file_extension": ".py",
   "mimetype": "text/x-python",
   "name": "python",
   "nbconvert_exporter": "python",
   "pygments_lexer": "ipython3",
   "version": "3.11.10"
  }
 },
 "nbformat": 4,
 "nbformat_minor": 5
}
